{
 "cells": [
  {
   "cell_type": "code",
   "execution_count": 1,
   "metadata": {},
   "outputs": [],
   "source": [
    "from shot_detecion_selector import ShotDetection\n",
    "from io_setup import setup_video_path, SceneJsonLoader, CutKeyFrameLoader\n",
    "import os\n",
    "from typing import Dict, List, Any\n",
    "import cv2\n",
    "import json\n",
    "import numpy as np"
   ]
  },
  {
   "cell_type": "code",
   "execution_count": 2,
   "metadata": {},
   "outputs": [],
   "source": [
    "input_dir = \"./input_sample\"\n",
    "all_video_paths = setup_video_path(\"./input_sample\")"
   ]
  },
  {
   "cell_type": "code",
   "execution_count": 3,
   "metadata": {},
   "outputs": [
    {
     "name": "stdout",
     "output_type": "stream",
     "text": [
      "Loading pretrained model from ./AutoShot/model_weight/ckpt_0_200_0.pth\n",
      "Current model has 90 params, Updating 90 params\n"
     ]
    },
    {
     "name": "stderr",
     "output_type": "stream",
     "text": [
      "22it [00:26,  1.23s/it]\n",
      "33it [00:39,  1.21s/it]\n",
      "18it [00:29,  1.65s/it]\n",
      "9it [00:15,  1.73s/it]\n",
      "15it [00:19,  1.27s/it]\n",
      "13it [00:18,  1.41s/it]\n",
      "29it [00:32,  1.11s/it]\n",
      "16it [00:16,  1.01s/it]\n",
      "13it [00:14,  1.12s/it]\n",
      "18it [00:19,  1.08s/it]\n",
      "13it [00:14,  1.12s/it]\n",
      "27it [00:36,  1.34s/it]\n",
      "21it [00:25,  1.21s/it]\n",
      "18it [00:20,  1.12s/it]\n",
      "27it [00:32,  1.22s/it]\n",
      "26it [00:35,  1.35s/it]\n",
      "21it [00:28,  1.37s/it]\n"
     ]
    }
   ],
   "source": [
    "model = ShotDetection('autoshot')\n",
    "prediction_scenes = model.run_model(video_path_dict=all_video_paths)"
   ]
  },
  {
   "cell_type": "code",
   "execution_count": 4,
   "metadata": {},
   "outputs": [],
   "source": [
    "sceneJson_dir = \"./output_sample/SceneJson\"\n",
    "os.makedirs(sceneJson_dir, exist_ok=True)\n",
    "json_handling = SceneJsonLoader(\n",
    "    prediction_scenes,\n",
    "    sceneJson_dir\n",
    ")\n",
    "json_handling.save_results()"
   ]
  },
  {
   "cell_type": "code",
   "execution_count": 5,
   "metadata": {},
   "outputs": [],
   "source": [
    "keyframe_dir = \"./output_sample/keyframes\"\n",
    "keyframe_handler = CutKeyFrameLoader(\n",
    "    sceneJson_dir,\n",
    "    keyframe_dir\n",
    ")\n",
    "keyframe_handler.extract_keyframes(\n",
    "    all_video_paths\n",
    ")"
   ]
  }
 ],
 "metadata": {
  "kernelspec": {
   "display_name": "Shot_Detection_envs",
   "language": "python",
   "name": "python3"
  },
  "language_info": {
   "codemirror_mode": {
    "name": "ipython",
    "version": 3
   },
   "file_extension": ".py",
   "mimetype": "text/x-python",
   "name": "python",
   "nbconvert_exporter": "python",
   "pygments_lexer": "ipython3",
   "version": "3.11.8"
  }
 },
 "nbformat": 4,
 "nbformat_minor": 2
}
